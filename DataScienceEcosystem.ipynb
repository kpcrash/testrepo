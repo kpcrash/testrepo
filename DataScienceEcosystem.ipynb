{
 "cells": [
  {
   "cell_type": "markdown",
   "id": "d30358b8-d9d8-4457-814a-ea29c82ec8ff",
   "metadata": {},
   "source": [
    "# Data Science Tools and Ecosystem\n",
    "\n",
    "## Author\n",
    "\n",
    "Kevin Price"
   ]
  },
  {
   "cell_type": "markdown",
   "id": "80052bd0-7064-4572-90a2-8f7e2f8e102f",
   "metadata": {},
   "source": [
    "In this notebook, Data Science Tools and Ecosystem are summarized."
   ]
  },
  {
   "cell_type": "markdown",
   "id": "01421396-1906-4383-b87e-dc26563923dc",
   "metadata": {},
   "source": [
    "__Objectives:__\n",
    "- List popular languages used by Data Scientists\n",
    "- List commonly used libraries by Data Scientists\n",
    "- List commonly used tools by Data Scientists\n",
    "- Demonstrate Python code in a Jupyter Notebook\n"
   ]
  },
  {
   "cell_type": "markdown",
   "id": "8f6f0cc9-8444-44d3-a821-39d3c0ad512e",
   "metadata": {},
   "source": [
    "Some of the popular languages that Data Scientists use are:\n",
    "1. Python\n",
    "1. Java\n",
    "1. Scala\n",
    "\n",
    "Some of the commonly used libraries used by Data Scientists include:\n",
    "- Numpy\n",
    "- Pandas\n",
    "- MatPlotLib"
   ]
  },
  {
   "cell_type": "markdown",
   "id": "1e7181b4-9708-4389-81f7-eaedbeefc864",
   "metadata": {},
   "source": [
    "| Data Science Tools |\n",
    "| ------------------ |\n",
    "| Jupyter Labs       |\n",
    "| R Studio           |\n",
    "| Apache Spark       |"
   ]
  },
  {
   "cell_type": "markdown",
   "id": "77515b7a-1592-4560-9463-911b47865f8d",
   "metadata": {},
   "source": [
    "### Below are a few examples of evaluating arithmetic expressions in Python"
   ]
  },
  {
   "cell_type": "code",
   "execution_count": 14,
   "id": "269d7b0a-140a-4597-b07c-5627b8173042",
   "metadata": {
    "tags": []
   },
   "outputs": [
    {
     "data": {
      "text/plain": [
       "17"
      ]
     },
     "execution_count": 14,
     "metadata": {},
     "output_type": "execute_result"
    }
   ],
   "source": [
    "# This a simple arithmetic expression to mutiply then add integers\n",
    "(3*4)+5"
   ]
  },
  {
   "cell_type": "code",
   "execution_count": 16,
   "id": "1b3f0afd-7ed0-4ac3-9073-0bee7e490d73",
   "metadata": {
    "tags": []
   },
   "outputs": [
    {
     "data": {
      "text/plain": [
       "3.3333333333333335"
      ]
     },
     "execution_count": 16,
     "metadata": {},
     "output_type": "execute_result"
    }
   ],
   "source": [
    "# This will convert 200 minutes to hours by diving by 60\n",
    "200/60"
   ]
  },
  {
   "cell_type": "code",
   "execution_count": null,
   "id": "b91e681e-ca5c-4ba6-b5ed-b9feef567a80",
   "metadata": {},
   "outputs": [],
   "source": []
  }
 ],
 "metadata": {
  "kernelspec": {
   "display_name": "Python 3 (ipykernel)",
   "language": "python",
   "name": "python3"
  },
  "language_info": {
   "codemirror_mode": {
    "name": "ipython",
    "version": 3
   },
   "file_extension": ".py",
   "mimetype": "text/x-python",
   "name": "python",
   "nbconvert_exporter": "python",
   "pygments_lexer": "ipython3",
   "version": "3.11.7"
  }
 },
 "nbformat": 4,
 "nbformat_minor": 5
}
